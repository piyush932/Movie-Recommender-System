{
 "cells": [
  {
   "cell_type": "code",
   "execution_count": 1,
   "id": "af1e9284",
   "metadata": {
    "ExecuteTime": {
     "end_time": "2024-08-10T17:50:35.494947Z",
     "start_time": "2024-08-10T17:50:35.472748Z"
    }
   },
   "outputs": [],
   "source": [
    "import pickle"
   ]
  },
  {
   "cell_type": "code",
   "execution_count": 6,
   "id": "7cf03bd7",
   "metadata": {
    "ExecuteTime": {
     "end_time": "2024-08-10T17:56:42.029815Z",
     "start_time": "2024-08-10T17:56:42.017113Z"
    }
   },
   "outputs": [],
   "source": [
    "import numpy"
   ]
  },
  {
   "cell_type": "code",
   "execution_count": 2,
   "id": "3ac633eb",
   "metadata": {
    "ExecuteTime": {
     "end_time": "2024-08-10T17:53:11.196735Z",
     "start_time": "2024-08-10T17:53:07.069868Z"
    }
   },
   "outputs": [],
   "source": [
    "with open('similarity.pkl', 'rb') as file:\n",
    "    data = pickle.load(file)"
   ]
  },
  {
   "cell_type": "code",
   "execution_count": 3,
   "id": "657d62e5",
   "metadata": {
    "ExecuteTime": {
     "end_time": "2024-08-10T17:53:21.833745Z",
     "start_time": "2024-08-10T17:53:21.764637Z"
    }
   },
   "outputs": [
    {
     "data": {
      "text/plain": [
       "array([[1.        , 0.10114435, 0.20851441, ..., 0.11616046, 0.16718346,\n",
       "        0.09325048],\n",
       "       [0.10114435, 1.        , 0.14552138, ..., 0.        , 0.06482037,\n",
       "        0.        ],\n",
       "       [0.20851441, 0.14552138, 1.        , ..., 0.03713907, 0.1069045 ,\n",
       "        0.13416408],\n",
       "       ...,\n",
       "       [0.11616046, 0.        , 0.03713907, ..., 1.        , 0.04962917,\n",
       "        0.04152274],\n",
       "       [0.16718346, 0.06482037, 0.1069045 , ..., 0.04962917, 1.        ,\n",
       "        0.05976143],\n",
       "       [0.09325048, 0.        , 0.13416408, ..., 0.04152274, 0.05976143,\n",
       "        1.        ]])"
      ]
     },
     "execution_count": 3,
     "metadata": {},
     "output_type": "execute_result"
    }
   ],
   "source": [
    "data"
   ]
  },
  {
   "cell_type": "code",
   "execution_count": 4,
   "id": "3be3b589",
   "metadata": {
    "ExecuteTime": {
     "end_time": "2024-08-10T17:53:54.110507Z",
     "start_time": "2024-08-10T17:53:54.085551Z"
    }
   },
   "outputs": [
    {
     "name": "stdout",
     "output_type": "stream",
     "text": [
      "[[1.         0.10114435 0.20851441 ... 0.11616046 0.16718346 0.09325048]\n",
      " [0.10114435 1.         0.14552138 ... 0.         0.06482037 0.        ]\n",
      " [0.20851441 0.14552138 1.         ... 0.03713907 0.1069045  0.13416408]\n",
      " ...\n",
      " [0.11616046 0.         0.03713907 ... 1.         0.04962917 0.04152274]\n",
      " [0.16718346 0.06482037 0.1069045  ... 0.04962917 1.         0.05976143]\n",
      " [0.09325048 0.         0.13416408 ... 0.04152274 0.05976143 1.        ]]\n"
     ]
    }
   ],
   "source": [
    "print(data)"
   ]
  },
  {
   "cell_type": "code",
   "execution_count": 5,
   "id": "2d0b9cc1",
   "metadata": {
    "ExecuteTime": {
     "end_time": "2024-08-10T17:55:32.807752Z",
     "start_time": "2024-08-10T17:55:32.779735Z"
    }
   },
   "outputs": [
    {
     "data": {
      "text/plain": [
       "10000"
      ]
     },
     "execution_count": 5,
     "metadata": {},
     "output_type": "execute_result"
    }
   ],
   "source": [
    "len(data)"
   ]
  },
  {
   "cell_type": "code",
   "execution_count": 7,
   "id": "68f45e1c",
   "metadata": {
    "ExecuteTime": {
     "end_time": "2024-08-10T17:59:44.148588Z",
     "start_time": "2024-08-10T17:59:44.132955Z"
    }
   },
   "outputs": [],
   "source": [
    "reduced_data = data[:1600, :1600]"
   ]
  },
  {
   "cell_type": "code",
   "execution_count": 8,
   "id": "7059172e",
   "metadata": {
    "ExecuteTime": {
     "end_time": "2024-08-10T17:59:50.655693Z",
     "start_time": "2024-08-10T17:59:50.633188Z"
    }
   },
   "outputs": [
    {
     "name": "stdout",
     "output_type": "stream",
     "text": [
      "The shape of the reduced data is: (1600, 1600)\n"
     ]
    }
   ],
   "source": [
    "print(f\"The shape of the reduced data is: {reduced_data.shape}\")"
   ]
  },
  {
   "cell_type": "code",
   "execution_count": 9,
   "id": "9f5c8763",
   "metadata": {
    "ExecuteTime": {
     "end_time": "2024-08-10T18:01:40.369626Z",
     "start_time": "2024-08-10T18:01:39.668265Z"
    }
   },
   "outputs": [],
   "source": [
    "with open('reduced_similarity.pkl', 'wb') as file:\n",
    "    pickle.dump(reduced_data, file)"
   ]
  },
  {
   "cell_type": "code",
   "execution_count": null,
   "id": "ecb00f67",
   "metadata": {},
   "outputs": [],
   "source": []
  }
 ],
 "metadata": {
  "kernelspec": {
   "display_name": "Python 3 (ipykernel)",
   "language": "python",
   "name": "python3"
  },
  "language_info": {
   "codemirror_mode": {
    "name": "ipython",
    "version": 3
   },
   "file_extension": ".py",
   "mimetype": "text/x-python",
   "name": "python",
   "nbconvert_exporter": "python",
   "pygments_lexer": "ipython3",
   "version": "3.9.13"
  },
  "toc": {
   "base_numbering": 1,
   "nav_menu": {},
   "number_sections": true,
   "sideBar": true,
   "skip_h1_title": false,
   "title_cell": "Table of Contents",
   "title_sidebar": "Contents",
   "toc_cell": false,
   "toc_position": {},
   "toc_section_display": true,
   "toc_window_display": false
  },
  "varInspector": {
   "cols": {
    "lenName": 16,
    "lenType": 16,
    "lenVar": 40
   },
   "kernels_config": {
    "python": {
     "delete_cmd_postfix": "",
     "delete_cmd_prefix": "del ",
     "library": "var_list.py",
     "varRefreshCmd": "print(var_dic_list())"
    },
    "r": {
     "delete_cmd_postfix": ") ",
     "delete_cmd_prefix": "rm(",
     "library": "var_list.r",
     "varRefreshCmd": "cat(var_dic_list()) "
    }
   },
   "types_to_exclude": [
    "module",
    "function",
    "builtin_function_or_method",
    "instance",
    "_Feature"
   ],
   "window_display": false
  }
 },
 "nbformat": 4,
 "nbformat_minor": 5
}
